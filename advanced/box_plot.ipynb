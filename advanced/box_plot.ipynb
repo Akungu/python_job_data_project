{
 "cells": [
  {
   "cell_type": "code",
   "execution_count": null,
   "id": "0ebb584c",
   "metadata": {},
   "outputs": [],
   "source": [
    "# import libraries\n",
    "import ast\n",
    "import pandas as pd\n",
    "import matplotlib.pyplot as plt\n",
    "from datasets import load_dataset\n",
    "\n",
    "# load dataset\n",
    "dataset = load_dataset('lukebarousse/data_jobs')\n",
    "df = dataset['train'].to_pandas()\n",
    "\n",
    "\n",
    "# clean dataset\n",
    "df['job_posted_date'] = pd.to_datetime(df['job_posted_date'])\n",
    "df['job_skills'] = df['job_skills'].apply(lambda x: ast.literal_eval(x) if pd.notna(x) else x)"
   ]
  },
  {
   "cell_type": "code",
   "execution_count": null,
   "id": "a02a36e6",
   "metadata": {},
   "outputs": [],
   "source": [
    "df_us_jobs = df[(df['job_country'] == 'United States') & (df['job_title_short'] == 'Data Analyst')].copy()\n",
    "\n"
   ]
  },
  {
   "cell_type": "code",
   "execution_count": 5,
   "id": "dd1678f5",
   "metadata": {},
   "outputs": [],
   "source": [
    "df_us_jobs = df_us_jobs.dropna(subset=['salary_year_avg'])"
   ]
  },
  {
   "cell_type": "code",
   "execution_count": 9,
   "id": "43d96acf",
   "metadata": {},
   "outputs": [
    {
     "data": {
      "text/plain": [
       "(0.0, 400000.0)"
      ]
     },
     "execution_count": 9,
     "metadata": {},
     "output_type": "execute_result"
    },
    {
     "data": {
      "image/png": "[encoded data removed]",
      "text/plain": [
       "<Figure size 640x480 with 1 Axes>"
      ]
     },
     "metadata": {},
     "output_type": "display_data"
    }
   ],
   "source": [
    "df_us_jobs['salary_year_avg'].plot(kind='box', vert=False)\n",
    "plt.xlim(0,400000)"
   ]
  }
 ],
 "metadata": {
  "kernelspec": {
   "display_name": "python_job_data_project",
   "language": "python",
   "name": "python3"
  },
  "language_info": {
   "codemirror_mode": {
    "name": "ipython",
    "version": 3
   },
   "file_extension": ".py",
   "mimetype": "text/x-python",
   "name": "python",
   "nbconvert_exporter": "python",
   "pygments_lexer": "ipython3",
   "version": "3.11.11"
  }
 },
 "nbformat": 4,
 "nbformat_minor": 5
}
