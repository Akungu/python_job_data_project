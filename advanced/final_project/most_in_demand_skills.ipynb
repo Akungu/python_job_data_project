{
 "cells": [
  {
   "cell_type": "code",
   "execution_count": null,
   "id": "0b15ba77",
   "metadata": {},
   "outputs": [],
   "source": [
    "# import libraries\n",
    "import pandas as pd\n",
    "import matplotlib.pyplot as plt\n",
    "import ast\n",
    "from datasets import load_dataset\n",
    "import seaborn as sns\n",
    "\n",
    "# load dataset\n",
    "dataset = load_dataset('lukebarousse/data_jobs')\n",
    "df = dataset['train'].to_pandas()\n",
    "\n",
    "\n",
    "# clean dataset\n",
    "df['job_posted_date'] = pd.to_datetime(df['job_posted_date'])\n",
    "df['job_skills'] = df['job_skills'].apply(lambda x: ast.literal_eval(x) if pd.notna(x) else x)"
   ]
  },
  {
   "cell_type": "code",
   "execution_count": 11,
   "id": "d1b7048d",
   "metadata": {},
   "outputs": [],
   "source": [
    "df_skills = df.explode('job_skills').copy()"
   ]
  },
  {
   "cell_type": "code",
   "execution_count": 13,
   "id": "11dc3ade",
   "metadata": {},
   "outputs": [
    {
     "data": {
      "text/plain": [
       "job_skills  job_title_short          \n",
       "airflow     Business Analyst               318\n",
       "            Cloud Engineer                 260\n",
       "            Data Analyst                  2002\n",
       "            Data Engineer                25505\n",
       "            Data Scientist                3915\n",
       "                                         ...  \n",
       "zoom        Machine Learning Engineer       46\n",
       "            Senior Data Analyst             86\n",
       "            Senior Data Engineer           122\n",
       "            Senior Data Scientist           79\n",
       "            Software Engineer              229\n",
       "Length: 2256, dtype: int64"
      ]
     },
     "execution_count": 13,
     "metadata": {},
     "output_type": "execute_result"
    }
   ],
   "source": [
    "df_skills_grouped = df_skills.groupby(['job_skills', 'job_title_short']).size()\n",
    "df_skills_grouped"
   ]
  },
  {
   "cell_type": "code",
   "execution_count": null,
   "id": "03d70817",
   "metadata": {},
   "outputs": [],
   "source": []
  }
 ],
 "metadata": {
  "kernelspec": {
   "display_name": "python_job_data_project",
   "language": "python",
   "name": "python3"
  },
  "language_info": {
   "codemirror_mode": {
    "name": "ipython",
    "version": 3
   },
   "file_extension": ".py",
   "mimetype": "text/x-python",
   "name": "python",
   "nbconvert_exporter": "python",
   "pygments_lexer": "ipython3",
   "version": "3.11.11"
  }
 },
 "nbformat": 4,
 "nbformat_minor": 5
}
